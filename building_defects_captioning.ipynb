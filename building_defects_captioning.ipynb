{
 "cells": [
  {
   "cell_type": "markdown",
   "metadata": {},
   "source": [
    "# Fine-Tune BLIP on Buildings Defects"
   ]
  },
  {
   "cell_type": "markdown",
   "metadata": {},
   "source": [
    "Using Hugging Face transformers, peft and bitsandbytes"
   ]
  },
  {
   "cell_type": "markdown",
   "metadata": {},
   "source": [
    "For this project  we're using a dataset obtained from Kaggle linked below. A subset of the images have been manually selected and labeled."
   ]
  },
  {
   "cell_type": "markdown",
   "metadata": {},
   "source": [
    "kaggle link"
   ]
  },
  {
   "cell_type": "markdown",
   "metadata": {},
   "source": [
    "### Setup environment"
   ]
  },
  {
   "cell_type": "code",
   "execution_count": 1,
   "metadata": {},
   "outputs": [
    {
     "name": "stdout",
     "output_type": "stream",
     "text": [
      "\u001b[33mDEPRECATION: Loading egg at /opt/homebrew/lib/python3.11/site-packages/openapi_client-1.0.0-py3.11.egg is deprecated. pip 24.3 will enforce this behaviour change. A possible replacement is to use pip for package installation.. Discussion can be found at https://github.com/pypa/pip/issues/12330\u001b[0m\u001b[33m\n",
      "\u001b[0m\n",
      "\u001b[1m[\u001b[0m\u001b[34;49mnotice\u001b[0m\u001b[1;39;49m]\u001b[0m\u001b[39;49m A new release of pip is available: \u001b[0m\u001b[31;49m23.3.1\u001b[0m\u001b[39;49m -> \u001b[0m\u001b[32;49m24.0\u001b[0m\n",
      "\u001b[1m[\u001b[0m\u001b[34;49mnotice\u001b[0m\u001b[1;39;49m]\u001b[0m\u001b[39;49m To update, run: \u001b[0m\u001b[32;49mpython3.11 -m pip install --upgrade pip\u001b[0m\n"
     ]
    }
   ],
   "source": [
    "!pip install -q git+https://github.com/huggingface/peft.git transformers bitsandbytes datasets"
   ]
  },
  {
   "cell_type": "markdown",
   "metadata": {},
   "source": [
    "### Load the dataset"
   ]
  },
  {
   "cell_type": "markdown",
   "metadata": {},
   "source": [
    "Load selected images from dataset"
   ]
  },
  {
   "cell_type": "code",
   "execution_count": 17,
   "metadata": {},
   "outputs": [],
   "source": [
    "# from PIL import Image\n",
    "# import os\n",
    "\n",
    "# def load_images_from_list(image_names, directory):\n",
    "#     images = []\n",
    "#     for image_name in image_names:\n",
    "#         # Construct the path to the image\n",
    "#         image_path = os.path.join(directory, image_name)\n",
    "#         # Check if the file exists\n",
    "#         if os.path.exists(image_path):\n",
    "#             # Open the image\n",
    "#             image = Image.open(image_path)\n",
    "#             # Append the image to the list\n",
    "#             images.append(image)\n",
    "#         else:\n",
    "#             print(f\"Image '{image_name}' not found in directory '{directory}'\")\n",
    "#     return images\n",
    "\n",
    "# # Example usage:\n",
    "# directory = 'photos/'\n",
    "# image_names = ['Dazu pazeidimai (6).JPG', 'IMG_3654.JPG', 'P7131533.JPG', 'IMG_3321.JPG', 'P7131018.JPG', 'P7130702.JPG', 'Fasadai biopazaida (5).JPG', 'Dazu pazeidimai (10).JPG', 'IMG_3420.JPG', 'Sirses (24).JPG', 'IMG_3804.JPG', 'IMG_3284.JPG', 'P2231196.JPG', 'Sirses (13).JPG', 'IMG_3864.JPG', 'P7130767.JPG', 'Dazu pazeidimai (21).JPG', 'P7131526.JPG', 'Dazu pazeidimai (37).JPG', 'P8210706.JPG', 'P8210712.JPG', 'IMG_3330.JPG', 'P7130765.JPG', 'P7130832.JPG', 'IMG_3320.JPG', 'IMG_3430.JPG', 'IMG_3829.JPG', 'P7130845.JPG', 'IMG_3578.JPG']\n",
    "# images = load_images_from_list(image_names, directory)"
   ]
  },
  {
   "cell_type": "code",
   "execution_count": 20,
   "metadata": {},
   "outputs": [],
   "source": [
    "from PIL import Image\n",
    "import os\n",
    "\n",
    "def load_images_from_list(image_info_list, directory):\n",
    "    images_with_text = []\n",
    "    for image_info in image_info_list:\n",
    "        image_name, text = image_info\n",
    "        # Construct the path to the image\n",
    "        image_path = os.path.join(directory, image_name)\n",
    "        # Check if the file exists\n",
    "        if os.path.exists(image_path):\n",
    "            # Open the image\n",
    "            image = Image.open(image_path)\n",
    "            # Create a dictionary with the image and its associated text\n",
    "            image_with_text = {\n",
    "                \"image\": image,\n",
    "                \"text\": text\n",
    "            }\n",
    "            # Append the dictionary to the list\n",
    "            images_with_text.append(image_with_text)\n",
    "        else:\n",
    "            print(f\"Image '{image_name}' not found in directory '{directory}'\")\n",
    "    return images_with_text\n",
    "\n",
    "# Example usage:\n",
    "directory = 'photos/'\n",
    "\n",
    "image_info_list = [\n",
    "    ('Dazu pazeidimai (6).JPG', 'Text associated with image 1'),\n",
    "    ('IMG_3654.JPG', 'Text associated with image 2'),\n",
    "    ('P7131533.JPG', 'Text associated with image 3'),\n",
    "    ('IMG_3321.JPG', 'Text associated with image 4'),\n",
    "    ('P7131018.JPG', 'Text associated with image 5'),\n",
    "    ('P7130702.JPG', 'Text associated with image 6'),\n",
    "    ('Fasadai biopazaida (5).JPG', 'Text associated with image 7'),\n",
    "    ('Dazu pazeidimai (10).JPG', 'Text associated with image 8'),\n",
    "    ('IMG_3420.JPG', 'Text associated with image 9'),\n",
    "    ('Sirses (24).JPG', 'Text associated with image 10'),\n",
    "    ('IMG_3804.JPG', 'Text associated with image 11'),\n",
    "    ('IMG_3284.JPG', 'Text associated with image 12'),\n",
    "    ('P2231196.JPG', 'Text associated with image 13'),\n",
    "    ('Sirses (13).JPG', 'Text associated with image 14'),\n",
    "    ('IMG_3864.JPG', 'Text associated with image 15'),\n",
    "    ('P7130767.JPG', 'Text associated with image 16'),\n",
    "    ('Dazu pazeidimai (21).JPG', 'Text associated with image 17'),\n",
    "    ('P7131526.JPG', 'Text associated with image 18'),\n",
    "    ('Dazu pazeidimai (37).JPG', 'Text associated with image 19'),\n",
    "    ('P8210706.JPG', 'Text associated with image 20'),\n",
    "    ('P8210712.JPG', 'Text associated with image 21'),\n",
    "    ('IMG_3330.JPG', 'Text associated with image 22'),\n",
    "    ('P7130765.JPG', 'Text associated with image 23'),\n",
    "    ('P7130832.JPG', 'Text associated with image 24'),\n",
    "    ('IMG_3320.JPG', 'Text associated with image 25'),\n",
    "    ('IMG_3430.JPG', 'Text associated with image 26'),\n",
    "    ('IMG_3829.JPG', 'Text associated with image 27'),\n",
    "    ('P7130845.JPG', 'Text associated with image 28'),\n",
    "    ('IMG_3578.JPG', 'Text associated with image 29')\n",
    "]\n",
    "\n",
    "\n",
    "images_with_text = load_images_from_list(image_info_list, directory)\n",
    "\n",
    "# Now 'images_with_text' contains dictionaries with each image and its associated text\n",
    "# You can access the image and text using image_with_text[index][\"image\"] and image_with_text[index][\"text\"]\n"
   ]
  },
  {
   "cell_type": "markdown",
   "metadata": {},
   "source": [
    "Display images"
   ]
  },
  {
   "cell_type": "code",
   "execution_count": 1,
   "metadata": {},
   "outputs": [
    {
     "ename": "NameError",
     "evalue": "name 'images_with_text' is not defined",
     "output_type": "error",
     "traceback": [
      "\u001b[0;31m---------------------------------------------------------------------------\u001b[0m",
      "\u001b[0;31mNameError\u001b[0m                                 Traceback (most recent call last)",
      "Cell \u001b[0;32mIn[1], line 18\u001b[0m\n\u001b[1;32m     14\u001b[0m         \u001b[38;5;28mprint\u001b[39m(\u001b[38;5;124m\"\u001b[39m\u001b[38;5;130;01m\\n\u001b[39;00m\u001b[38;5;124m\"\u001b[39m)\n\u001b[1;32m     16\u001b[0m \u001b[38;5;66;03m# Example usage:\u001b[39;00m\n\u001b[1;32m     17\u001b[0m \u001b[38;5;66;03m# Assuming you have already loaded the images_with_text using the load_images_from_list function\u001b[39;00m\n\u001b[0;32m---> 18\u001b[0m display_images_with_text(\u001b[43mimages_with_text\u001b[49m)\n",
      "\u001b[0;31mNameError\u001b[0m: name 'images_with_text' is not defined"
     ]
    }
   ],
   "source": [
    "from PIL import Image\n",
    "from IPython.display import display\n",
    "\n",
    "def display_images_with_text(images_with_text):\n",
    "    for idx, image_info in enumerate(images_with_text, start=1):\n",
    "        image = image_info[\"image\"]\n",
    "        text = image_info[\"text\"]\n",
    "        # Display the image\n",
    "        print(f\"Image {idx}:\")\n",
    "        display(image)\n",
    "        # Display the associated text\n",
    "        print(f\"Text associated with Image {idx}:\")\n",
    "        print(text)\n",
    "        print(\"\\n\")\n",
    "\n",
    "# Example usage:\n",
    "# Assuming you have already loaded the images_with_text using the load_images_from_list function\n",
    "display_images_with_text(images_with_text)\n"
   ]
  }
 ],
 "metadata": {
  "kernelspec": {
   "display_name": "Python 3",
   "language": "python",
   "name": "python3"
  },
  "language_info": {
   "codemirror_mode": {
    "name": "ipython",
    "version": 3
   },
   "file_extension": ".py",
   "mimetype": "text/x-python",
   "name": "python",
   "nbconvert_exporter": "python",
   "pygments_lexer": "ipython3",
   "version": "3.12.2"
  }
 },
 "nbformat": 4,
 "nbformat_minor": 2
}
